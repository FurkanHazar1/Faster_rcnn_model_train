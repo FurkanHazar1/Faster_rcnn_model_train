{
 "cells": [
  {
   "cell_type": "code",
   "execution_count": 1,
   "metadata": {},
   "outputs": [],
   "source": [
    "import torch\n",
    "import torchvision\n",
    "from torch.utils.data import DataLoader\n",
    "from torchvision.models.detection import FasterRCNN\n",
    "from torchvision.models.detection.faster_rcnn import FastRCNNPredictor\n",
    "from torchvision.datasets import CocoDetection\n",
    "from torchvision.transforms import functional as F\n",
    "from eval import evaluate\n",
    "from tqdm import tqdm\n",
    "from itertools import product\n",
    "import time"
   ]
  },
  {
   "cell_type": "code",
   "execution_count": 2,
   "metadata": {},
   "outputs": [],
   "source": [
    "\n",
    "class CocoTransform:\n",
    "    def __call__(self, image, target):\n",
    "        image = F.to_tensor(image)\n",
    "\n",
    "        boxes = []\n",
    "        labels = []\n",
    "\n",
    "        for obj in target:\n",
    "            bbox = obj[\"bbox\"]\n",
    "            # COCO: [x, y, width, height] → [x1, y1, x2, y2]\n",
    "            x, y, w, h = bbox\n",
    "            boxes.append([x, y, x + w, y + h])\n",
    "            labels.append(obj[\"category_id\"])\n",
    "\n",
    "        boxes = torch.tensor(boxes, dtype=torch.float32)\n",
    "        labels = torch.tensor(labels, dtype=torch.int64)\n",
    "\n",
    "        target_converted = {\n",
    "            \"boxes\": boxes,\n",
    "            \"labels\": labels\n",
    "        }\n",
    "\n",
    "        return image, target_converted"
   ]
  },
  {
   "cell_type": "code",
   "execution_count": 3,
   "metadata": {},
   "outputs": [
    {
     "name": "stdout",
     "output_type": "stream",
     "text": [
      "loading annotations into memory...\n",
      "Done (t=0.09s)\n",
      "creating index...\n",
      "index created!\n",
      "loading annotations into memory...\n",
      "Done (t=0.01s)\n",
      "creating index...\n",
      "index created!\n"
     ]
    }
   ],
   "source": [
    "\n",
    "def get_coco_dataset(img_dir, ann_file):\n",
    "    return CocoDetection(\n",
    "        root=img_dir,\n",
    "        annFile=ann_file,\n",
    "        transforms=CocoTransform()\n",
    "    )\n",
    "\n",
    "\n",
    "train_dataset = get_coco_dataset(\n",
    "    img_dir=\"xray_knifes-6/train\",\n",
    "    ann_file=\"xray_knifes-6/train/_annotations.coco.json\"\n",
    ")\n",
    "\n",
    "\n",
    "val_dataset = get_coco_dataset(\n",
    "    img_dir=\"xray_knifes-6/valid\",\n",
    "    ann_file=\"xray_knifes-6/valid/_annotations.coco.json\"\n",
    ")\n",
    "\n",
    "\n",
    "\n",
    "\n",
    "train_loader = DataLoader(train_dataset, batch_size=18, shuffle=True, collate_fn=lambda x: tuple(zip(*x)))\n",
    "val_loader = DataLoader(val_dataset, batch_size=18, shuffle=False, collate_fn=lambda x: tuple(zip(*x)))"
   ]
  },
  {
   "cell_type": "code",
   "execution_count": 4,
   "metadata": {},
   "outputs": [],
   "source": [
    "\n",
    "def get_model(num_classes):\n",
    "\n",
    "    model = torchvision.models.detection.fasterrcnn_resnet50_fpn(pretrained=True)\n",
    "\n",
    "    in_features = model.roi_heads.box_predictor.cls_score.in_features\n",
    "    \n",
    "    model.roi_heads.box_predictor = FastRCNNPredictor(in_features, num_classes)\n",
    "    return model"
   ]
  },
  {
   "cell_type": "code",
   "execution_count": 5,
   "metadata": {},
   "outputs": [
    {
     "name": "stderr",
     "output_type": "stream",
     "text": [
      "c:\\Users\\bilgi\\AppData\\Local\\Programs\\Python\\Python311\\Lib\\site-packages\\torchvision\\models\\_utils.py:208: UserWarning: The parameter 'pretrained' is deprecated since 0.13 and may be removed in the future, please use 'weights' instead.\n",
      "  warnings.warn(\n",
      "c:\\Users\\bilgi\\AppData\\Local\\Programs\\Python\\Python311\\Lib\\site-packages\\torchvision\\models\\_utils.py:223: UserWarning: Arguments other than a weight enum or `None` for 'weights' are deprecated since 0.13 and may be removed in the future. The current behavior is equivalent to passing `weights=FasterRCNN_ResNet50_FPN_Weights.COCO_V1`. You can also use `weights=FasterRCNN_ResNet50_FPN_Weights.DEFAULT` to get the most up-to-date weights.\n",
      "  warnings.warn(msg)\n"
     ]
    }
   ],
   "source": [
    "\n",
    "num_classes = 9 \n",
    "model = get_model(num_classes)"
   ]
  },
  {
   "cell_type": "code",
   "execution_count": 6,
   "metadata": {},
   "outputs": [],
   "source": [
    "\n",
    "device = torch.device('cuda') if torch.cuda.is_available() else torch.device('cpu')\n",
    "model.to(device)\n",
    "\n",
    "params = [p for p in model.parameters() if p.requires_grad]\n",
    "optimizer = torch.optim.SGD(params, lr=0.005, momentum=0.9, weight_decay=0.0005)\n",
    "lr_scheduler = torch.optim.lr_scheduler.StepLR(optimizer, step_size=3, gamma=0.1)"
   ]
  },
  {
   "cell_type": "code",
   "execution_count": 7,
   "metadata": {},
   "outputs": [],
   "source": [
    "def train_one_epoch(model, optimizer, data_loader, device, epoch):\n",
    "    model.train()\n",
    "    total_loss = 0.0\n",
    "    num_batches = len(data_loader)\n",
    "\n",
    "\n",
    "    pbar = tqdm(enumerate(data_loader), total=num_batches, desc=f\"Epoch {epoch}\", ncols=100)\n",
    "\n",
    "    for batch_idx, (images, targets) in pbar:\n",
    "        images = list(img.to(device) for img in images)\n",
    "        targets = [{k: v.to(device) for k, v in t.items()} for t in targets]\n",
    "\n",
    "        loss_dict = model(images, targets)\n",
    "        losses = sum(loss for loss in loss_dict.values())\n",
    "        loss_value = losses.item()\n",
    "        total_loss += loss_value\n",
    "\n",
    "        optimizer.zero_grad()\n",
    "        losses.backward()\n",
    "        optimizer.step()\n",
    "\n",
    "        \n",
    "        # Progress bar'ı güncelle\n",
    "        pbar.set_postfix({\n",
    "            \"Loss\": f\"{loss_value:.4f}\"\n",
    "        })\n",
    "\n",
    "    avg_loss = total_loss / num_batches\n",
    "    print(f\"✅ Epoch {epoch} tamamlandı. Ortalama Loss: {avg_loss:.4f}\")\n",
    "\n",
    "    "
   ]
  },
  {
   "cell_type": "code",
   "execution_count": 8,
   "metadata": {},
   "outputs": [],
   "source": [
    "def run_training(model, optimizer, lr_scheduler, num_epochs):\n",
    "    for epoch in range(num_epochs):\n",
    "        train_one_epoch(model, optimizer, train_loader, device, epoch)\n",
    "        lr_scheduler.step()\n",
    "\n",
    "\n",
    "        if (epoch + 1) % 5 == 0:\n",
    "            metrics = evaluate(model, val_loader, device, num_classes)\n",
    "            print(\"\\n📊 Evaluation Results:\")\n",
    "            print(f\"mAP@50: {metrics['mAP_50']:.4f}\")\n",
    "            print(f\"mAP@75: {metrics['mAP_75']:.4f}\")\n",
    "\n",
    "        model_path = f\"fasterrcnn_resnet50_epoch_{epoch + 1}.pth\"\n",
    "        torch.save(model.state_dict(), model_path)\n",
    "        print(f\"💾 Model saved: {model_path}\")"
   ]
  },
  {
   "cell_type": "code",
   "execution_count": null,
   "metadata": {},
   "outputs": [
    {
     "ename": "",
     "evalue": "",
     "output_type": "error",
     "traceback": [
      "\u001b[1;31mThe Kernel crashed while executing code in the current cell or a previous cell. \n",
      "\u001b[1;31mPlease review the code in the cell(s) to identify a possible cause of the failure. \n",
      "\u001b[1;31mClick <a href='https://aka.ms/vscodeJupyterKernelCrash'>here</a> for more info. \n",
      "\u001b[1;31mView Jupyter <a href='command:jupyter.viewOutput'>log</a> for further details."
     ]
    }
   ],
   "source": [
    "def run_grid_search():\n",
    "\n",
    "\n",
    "    lr_list = [0.005, 0.0025, 0.001]\n",
    "    momentum_list = [0.9]\n",
    "    weight_decay_list = [0.0001, 0.00005]\n",
    "\n",
    "\n",
    "    param_grid = list(product(lr_list, momentum_list, weight_decay_list))\n",
    "    best_map50 = 0.0\n",
    "    best_params = None\n",
    "\n",
    "    for idx, (lr, momentum, wd) in enumerate(param_grid):\n",
    "        print(f\"\\n🔍 [Grid {idx+1}/{len(param_grid)}] lr={lr}, momentum={momentum}, weight_decay={wd}\")\n",
    "\n",
    "        model = get_model(num_classes).to(device)\n",
    "        params = [p for p in model.parameters() if p.requires_grad]\n",
    "        optimizer = torch.optim.SGD(params, lr=lr, momentum=momentum, weight_decay=wd)\n",
    "        lr_scheduler = torch.optim.lr_scheduler.StepLR(optimizer, step_size=3, gamma=0.1)\n",
    "\n",
    "        train_one_epoch(model, optimizer, train_loader, device, epoch=0)\n",
    "        lr_scheduler.step()\n",
    "\n",
    "        metrics = evaluate(model, val_loader, device, num_classes)\n",
    "        map_50 = metrics['mAP_50']\n",
    "        print(f\"🧪 Eval mAP@50: {map_50:.4f}\")\n",
    "\n",
    "        if map_50 > best_map50:\n",
    "            best_map50 = map_50\n",
    "            best_params = (lr, momentum, wd)\n",
    "\n",
    "    print(\"\\n🏆 En iyi hiperparametreler:\")\n",
    "    print(f\"Learning rate: {best_params[0]}\")\n",
    "    print(f\"Momentum: {best_params[1]}\")\n",
    "    print(f\"Weight decay: {best_params[2]}\")\n",
    "    print(f\"Best mAP@50: {best_map50:.4f}\")\n",
    "\n",
    "    lr = best_params[0]\n",
    "    momentum = best_params[1]\n",
    "    w_d = best_params[2]\n",
    "    return lr, momentum, w_d"
   ]
  },
  {
   "cell_type": "code",
   "execution_count": null,
   "metadata": {},
   "outputs": [
    {
     "name": "stderr",
     "output_type": "stream",
     "text": [
      "Epoch 0: 100%|███████████████████████████████████████| 614/614 [08:17<00:00,  1.23it/s, Loss=0.2312]\n"
     ]
    },
    {
     "name": "stdout",
     "output_type": "stream",
     "text": [
      "✅ Epoch 0 tamamlandı. Ortalama Loss: 0.2846\n",
      "💾 Model saved: fasterrcnn_resnet50_epoch_1.pth\n"
     ]
    },
    {
     "name": "stderr",
     "output_type": "stream",
     "text": [
      "Epoch 1: 100%|███████████████████████████████████████| 614/614 [08:31<00:00,  1.20it/s, Loss=0.2286]\n"
     ]
    },
    {
     "name": "stdout",
     "output_type": "stream",
     "text": [
      "✅ Epoch 1 tamamlandı. Ortalama Loss: 0.2053\n",
      "💾 Model saved: fasterrcnn_resnet50_epoch_2.pth\n"
     ]
    },
    {
     "name": "stderr",
     "output_type": "stream",
     "text": [
      "Epoch 2: 100%|███████████████████████████████████████| 614/614 [08:55<00:00,  1.15it/s, Loss=0.2555]\n"
     ]
    },
    {
     "name": "stdout",
     "output_type": "stream",
     "text": [
      "✅ Epoch 2 tamamlandı. Ortalama Loss: 0.1796\n",
      "💾 Model saved: fasterrcnn_resnet50_epoch_3.pth\n"
     ]
    },
    {
     "name": "stderr",
     "output_type": "stream",
     "text": [
      "Epoch 3: 100%|███████████████████████████████████████| 614/614 [09:08<00:00,  1.12it/s, Loss=0.2440]\n"
     ]
    },
    {
     "name": "stdout",
     "output_type": "stream",
     "text": [
      "✅ Epoch 3 tamamlandı. Ortalama Loss: 0.1603\n",
      "💾 Model saved: fasterrcnn_resnet50_epoch_4.pth\n"
     ]
    },
    {
     "name": "stderr",
     "output_type": "stream",
     "text": [
      "Epoch 4: 100%|███████████████████████████████████████| 614/614 [08:03<00:00,  1.27it/s, Loss=0.1651]\n"
     ]
    },
    {
     "name": "stdout",
     "output_type": "stream",
     "text": [
      "✅ Epoch 4 tamamlandı. Ortalama Loss: 0.1451\n"
     ]
    },
    {
     "name": "stderr",
     "output_type": "stream",
     "text": [
      "Evaluating: 100%|██████████| 157/157 [01:04<00:00,  2.43it/s]\n"
     ]
    },
    {
     "name": "stdout",
     "output_type": "stream",
     "text": [
      "\n",
      "📊 Evaluation Results:\n",
      "mAP@50: 0.7413\n",
      "mAP@75: 0.2923\n",
      "💾 Model saved: fasterrcnn_resnet50_epoch_5.pth\n"
     ]
    },
    {
     "name": "stderr",
     "output_type": "stream",
     "text": [
      "Epoch 5: 100%|███████████████████████████████████████| 614/614 [07:45<00:00,  1.32it/s, Loss=0.0806]\n"
     ]
    },
    {
     "name": "stdout",
     "output_type": "stream",
     "text": [
      "✅ Epoch 5 tamamlandı. Ortalama Loss: 0.1333\n",
      "💾 Model saved: fasterrcnn_resnet50_epoch_6.pth\n"
     ]
    },
    {
     "name": "stderr",
     "output_type": "stream",
     "text": [
      "Epoch 6: 100%|███████████████████████████████████████| 614/614 [07:44<00:00,  1.32it/s, Loss=0.1271]\n"
     ]
    },
    {
     "name": "stdout",
     "output_type": "stream",
     "text": [
      "✅ Epoch 6 tamamlandı. Ortalama Loss: 0.1230\n",
      "💾 Model saved: fasterrcnn_resnet50_epoch_7.pth\n"
     ]
    },
    {
     "name": "stderr",
     "output_type": "stream",
     "text": [
      "Epoch 7: 100%|███████████████████████████████████████| 614/614 [07:43<00:00,  1.32it/s, Loss=0.1540]\n"
     ]
    },
    {
     "name": "stdout",
     "output_type": "stream",
     "text": [
      "✅ Epoch 7 tamamlandı. Ortalama Loss: 0.1133\n",
      "💾 Model saved: fasterrcnn_resnet50_epoch_8.pth\n"
     ]
    },
    {
     "name": "stderr",
     "output_type": "stream",
     "text": [
      "Epoch 8: 100%|███████████████████████████████████████| 614/614 [07:44<00:00,  1.32it/s, Loss=0.2354]\n"
     ]
    },
    {
     "name": "stdout",
     "output_type": "stream",
     "text": [
      "✅ Epoch 8 tamamlandı. Ortalama Loss: 0.1053\n",
      "💾 Model saved: fasterrcnn_resnet50_epoch_9.pth\n"
     ]
    },
    {
     "name": "stderr",
     "output_type": "stream",
     "text": [
      "Epoch 9: 100%|███████████████████████████████████████| 614/614 [07:44<00:00,  1.32it/s, Loss=0.0806]\n"
     ]
    },
    {
     "name": "stdout",
     "output_type": "stream",
     "text": [
      "✅ Epoch 9 tamamlandı. Ortalama Loss: 0.0973\n"
     ]
    },
    {
     "name": "stderr",
     "output_type": "stream",
     "text": [
      "Evaluating: 100%|██████████| 157/157 [01:04<00:00,  2.42it/s]\n"
     ]
    },
    {
     "name": "stdout",
     "output_type": "stream",
     "text": [
      "\n",
      "📊 Evaluation Results:\n",
      "mAP@50: 0.7291\n",
      "mAP@75: 0.2861\n",
      "💾 Model saved: fasterrcnn_resnet50_epoch_10.pth\n"
     ]
    },
    {
     "name": "stderr",
     "output_type": "stream",
     "text": [
      "Epoch 10: 100%|██████████████████████████████████████| 614/614 [07:43<00:00,  1.32it/s, Loss=0.0455]\n"
     ]
    },
    {
     "name": "stdout",
     "output_type": "stream",
     "text": [
      "✅ Epoch 10 tamamlandı. Ortalama Loss: 0.0812\n",
      "💾 Model saved: fasterrcnn_resnet50_epoch_11.pth\n"
     ]
    },
    {
     "name": "stderr",
     "output_type": "stream",
     "text": [
      "Epoch 11: 100%|██████████████████████████████████████| 614/614 [07:42<00:00,  1.33it/s, Loss=0.0808]\n"
     ]
    },
    {
     "name": "stdout",
     "output_type": "stream",
     "text": [
      "✅ Epoch 11 tamamlandı. Ortalama Loss: 0.0764\n",
      "💾 Model saved: fasterrcnn_resnet50_epoch_12.pth\n"
     ]
    },
    {
     "name": "stderr",
     "output_type": "stream",
     "text": [
      "Epoch 12: 100%|██████████████████████████████████████| 614/614 [07:43<00:00,  1.32it/s, Loss=0.0639]\n"
     ]
    },
    {
     "name": "stdout",
     "output_type": "stream",
     "text": [
      "✅ Epoch 12 tamamlandı. Ortalama Loss: 0.0736\n",
      "💾 Model saved: fasterrcnn_resnet50_epoch_13.pth\n"
     ]
    },
    {
     "name": "stderr",
     "output_type": "stream",
     "text": [
      "Epoch 13: 100%|██████████████████████████████████████| 614/614 [08:22<00:00,  1.22it/s, Loss=0.0786]\n"
     ]
    },
    {
     "name": "stdout",
     "output_type": "stream",
     "text": [
      "✅ Epoch 13 tamamlandı. Ortalama Loss: 0.0712\n",
      "💾 Model saved: fasterrcnn_resnet50_epoch_14.pth\n"
     ]
    },
    {
     "name": "stderr",
     "output_type": "stream",
     "text": [
      "Epoch 14: 100%|██████████████████████████████████████| 614/614 [08:21<00:00,  1.22it/s, Loss=0.0460]\n"
     ]
    },
    {
     "name": "stdout",
     "output_type": "stream",
     "text": [
      "✅ Epoch 14 tamamlandı. Ortalama Loss: 0.0690\n"
     ]
    },
    {
     "name": "stderr",
     "output_type": "stream",
     "text": [
      "Evaluating: 100%|██████████| 157/157 [01:05<00:00,  2.38it/s]\n"
     ]
    },
    {
     "name": "stdout",
     "output_type": "stream",
     "text": [
      "\n",
      "📊 Evaluation Results:\n",
      "mAP@50: 0.7434\n",
      "mAP@75: 0.3504\n",
      "💾 Model saved: fasterrcnn_resnet50_epoch_15.pth\n"
     ]
    },
    {
     "name": "stderr",
     "output_type": "stream",
     "text": [
      "Epoch 15: 100%|██████████████████████████████████████| 614/614 [08:06<00:00,  1.26it/s, Loss=0.1048]\n"
     ]
    },
    {
     "name": "stdout",
     "output_type": "stream",
     "text": [
      "✅ Epoch 15 tamamlandı. Ortalama Loss: 0.0672\n",
      "💾 Model saved: fasterrcnn_resnet50_epoch_16.pth\n"
     ]
    },
    {
     "name": "stderr",
     "output_type": "stream",
     "text": [
      "Epoch 16: 100%|██████████████████████████████████████| 614/614 [07:43<00:00,  1.32it/s, Loss=0.0399]\n"
     ]
    },
    {
     "name": "stdout",
     "output_type": "stream",
     "text": [
      "✅ Epoch 16 tamamlandı. Ortalama Loss: 0.0656\n",
      "💾 Model saved: fasterrcnn_resnet50_epoch_17.pth\n"
     ]
    },
    {
     "name": "stderr",
     "output_type": "stream",
     "text": [
      "Epoch 17: 100%|██████████████████████████████████████| 614/614 [07:42<00:00,  1.33it/s, Loss=0.0667]\n"
     ]
    },
    {
     "name": "stdout",
     "output_type": "stream",
     "text": [
      "✅ Epoch 17 tamamlandı. Ortalama Loss: 0.0641\n",
      "💾 Model saved: fasterrcnn_resnet50_epoch_18.pth\n"
     ]
    },
    {
     "name": "stderr",
     "output_type": "stream",
     "text": [
      "Epoch 18: 100%|██████████████████████████████████████| 614/614 [07:42<00:00,  1.33it/s, Loss=0.0550]\n"
     ]
    },
    {
     "name": "stdout",
     "output_type": "stream",
     "text": [
      "✅ Epoch 18 tamamlandı. Ortalama Loss: 0.0625\n",
      "💾 Model saved: fasterrcnn_resnet50_epoch_19.pth\n"
     ]
    },
    {
     "name": "stderr",
     "output_type": "stream",
     "text": [
      "Epoch 19: 100%|██████████████████████████████████████| 614/614 [07:42<00:00,  1.33it/s, Loss=0.1037]\n"
     ]
    },
    {
     "name": "stdout",
     "output_type": "stream",
     "text": [
      "✅ Epoch 19 tamamlandı. Ortalama Loss: 0.0613\n"
     ]
    },
    {
     "name": "stderr",
     "output_type": "stream",
     "text": [
      "Evaluating: 100%|██████████| 157/157 [01:05<00:00,  2.40it/s]\n"
     ]
    },
    {
     "name": "stdout",
     "output_type": "stream",
     "text": [
      "\n",
      "📊 Evaluation Results:\n",
      "mAP@50: 0.7374\n",
      "mAP@75: 0.3408\n",
      "💾 Model saved: fasterrcnn_resnet50_epoch_20.pth\n"
     ]
    },
    {
     "name": "stderr",
     "output_type": "stream",
     "text": [
      "Epoch 20: 100%|██████████████████████████████████████| 614/614 [07:42<00:00,  1.33it/s, Loss=0.0724]\n"
     ]
    },
    {
     "name": "stdout",
     "output_type": "stream",
     "text": [
      "✅ Epoch 20 tamamlandı. Ortalama Loss: 0.0589\n",
      "💾 Model saved: fasterrcnn_resnet50_epoch_21.pth\n"
     ]
    },
    {
     "name": "stderr",
     "output_type": "stream",
     "text": [
      "Epoch 21: 100%|██████████████████████████████████████| 614/614 [08:21<00:00,  1.23it/s, Loss=0.0329]\n"
     ]
    },
    {
     "name": "stdout",
     "output_type": "stream",
     "text": [
      "✅ Epoch 21 tamamlandı. Ortalama Loss: 0.0585\n",
      "💾 Model saved: fasterrcnn_resnet50_epoch_22.pth\n"
     ]
    },
    {
     "name": "stderr",
     "output_type": "stream",
     "text": [
      "Epoch 22: 100%|██████████████████████████████████████| 614/614 [08:53<00:00,  1.15it/s, Loss=0.0315]\n"
     ]
    },
    {
     "name": "stdout",
     "output_type": "stream",
     "text": [
      "✅ Epoch 22 tamamlandı. Ortalama Loss: 0.0584\n",
      "💾 Model saved: fasterrcnn_resnet50_epoch_23.pth\n"
     ]
    },
    {
     "name": "stderr",
     "output_type": "stream",
     "text": [
      "Epoch 23: 100%|██████████████████████████████████████| 614/614 [08:33<00:00,  1.20it/s, Loss=0.1396]\n"
     ]
    },
    {
     "name": "stdout",
     "output_type": "stream",
     "text": [
      "✅ Epoch 23 tamamlandı. Ortalama Loss: 0.0584\n",
      "💾 Model saved: fasterrcnn_resnet50_epoch_24.pth\n"
     ]
    },
    {
     "name": "stderr",
     "output_type": "stream",
     "text": [
      "Epoch 24: 100%|██████████████████████████████████████| 614/614 [08:41<00:00,  1.18it/s, Loss=0.0497]\n"
     ]
    },
    {
     "name": "stdout",
     "output_type": "stream",
     "text": [
      "✅ Epoch 24 tamamlandı. Ortalama Loss: 0.0581\n"
     ]
    },
    {
     "name": "stderr",
     "output_type": "stream",
     "text": [
      "Evaluating: 100%|██████████| 157/157 [01:23<00:00,  1.89it/s]\n"
     ]
    },
    {
     "name": "stdout",
     "output_type": "stream",
     "text": [
      "\n",
      "📊 Evaluation Results:\n",
      "mAP@50: 0.7375\n",
      "mAP@75: 0.3443\n",
      "💾 Model saved: fasterrcnn_resnet50_epoch_25.pth\n"
     ]
    },
    {
     "name": "stderr",
     "output_type": "stream",
     "text": [
      "Epoch 25: 100%|██████████████████████████████████████| 614/614 [08:43<00:00,  1.17it/s, Loss=0.0330]\n"
     ]
    },
    {
     "name": "stdout",
     "output_type": "stream",
     "text": [
      "✅ Epoch 25 tamamlandı. Ortalama Loss: 0.0579\n",
      "💾 Model saved: fasterrcnn_resnet50_epoch_26.pth\n"
     ]
    },
    {
     "name": "stderr",
     "output_type": "stream",
     "text": [
      "Epoch 26: 100%|██████████████████████████████████████| 614/614 [08:11<00:00,  1.25it/s, Loss=0.0592]\n"
     ]
    },
    {
     "name": "stdout",
     "output_type": "stream",
     "text": [
      "✅ Epoch 26 tamamlandı. Ortalama Loss: 0.0578\n",
      "💾 Model saved: fasterrcnn_resnet50_epoch_27.pth\n"
     ]
    },
    {
     "name": "stderr",
     "output_type": "stream",
     "text": [
      "Epoch 27: 100%|██████████████████████████████████████| 614/614 [07:53<00:00,  1.30it/s, Loss=0.0859]\n"
     ]
    },
    {
     "name": "stdout",
     "output_type": "stream",
     "text": [
      "✅ Epoch 27 tamamlandı. Ortalama Loss: 0.0578\n",
      "💾 Model saved: fasterrcnn_resnet50_epoch_28.pth\n"
     ]
    },
    {
     "name": "stderr",
     "output_type": "stream",
     "text": [
      "Epoch 28: 100%|██████████████████████████████████████| 614/614 [08:05<00:00,  1.26it/s, Loss=0.0693]\n"
     ]
    },
    {
     "name": "stdout",
     "output_type": "stream",
     "text": [
      "✅ Epoch 28 tamamlandı. Ortalama Loss: 0.0576\n",
      "💾 Model saved: fasterrcnn_resnet50_epoch_29.pth\n"
     ]
    },
    {
     "name": "stderr",
     "output_type": "stream",
     "text": [
      "Epoch 29: 100%|██████████████████████████████████████| 614/614 [08:32<00:00,  1.20it/s, Loss=0.0342]\n"
     ]
    },
    {
     "name": "stdout",
     "output_type": "stream",
     "text": [
      "✅ Epoch 29 tamamlandı. Ortalama Loss: 0.0574\n"
     ]
    },
    {
     "name": "stderr",
     "output_type": "stream",
     "text": [
      "Evaluating: 100%|██████████| 157/157 [01:04<00:00,  2.44it/s]\n"
     ]
    },
    {
     "name": "stdout",
     "output_type": "stream",
     "text": [
      "\n",
      "📊 Evaluation Results:\n",
      "mAP@50: 0.7361\n",
      "mAP@75: 0.3451\n",
      "💾 Model saved: fasterrcnn_resnet50_epoch_30.pth\n"
     ]
    },
    {
     "name": "stderr",
     "output_type": "stream",
     "text": [
      "Epoch 30: 100%|██████████████████████████████████████| 614/614 [07:59<00:00,  1.28it/s, Loss=0.0679]\n"
     ]
    },
    {
     "name": "stdout",
     "output_type": "stream",
     "text": [
      "✅ Epoch 30 tamamlandı. Ortalama Loss: 0.0572\n",
      "💾 Model saved: fasterrcnn_resnet50_epoch_31.pth\n"
     ]
    },
    {
     "name": "stderr",
     "output_type": "stream",
     "text": [
      "Epoch 31: 100%|██████████████████████████████████████| 614/614 [07:41<00:00,  1.33it/s, Loss=0.0405]\n"
     ]
    },
    {
     "name": "stdout",
     "output_type": "stream",
     "text": [
      "✅ Epoch 31 tamamlandı. Ortalama Loss: 0.0571\n",
      "💾 Model saved: fasterrcnn_resnet50_epoch_32.pth\n"
     ]
    },
    {
     "name": "stderr",
     "output_type": "stream",
     "text": [
      "Epoch 32: 100%|██████████████████████████████████████| 614/614 [07:42<00:00,  1.33it/s, Loss=0.0893]\n"
     ]
    },
    {
     "name": "stdout",
     "output_type": "stream",
     "text": [
      "✅ Epoch 32 tamamlandı. Ortalama Loss: 0.0572\n",
      "💾 Model saved: fasterrcnn_resnet50_epoch_33.pth\n"
     ]
    },
    {
     "name": "stderr",
     "output_type": "stream",
     "text": [
      "Epoch 33: 100%|██████████████████████████████████████| 614/614 [07:42<00:00,  1.33it/s, Loss=0.0472]\n"
     ]
    },
    {
     "name": "stdout",
     "output_type": "stream",
     "text": [
      "✅ Epoch 33 tamamlandı. Ortalama Loss: 0.0570\n",
      "💾 Model saved: fasterrcnn_resnet50_epoch_34.pth\n"
     ]
    },
    {
     "name": "stderr",
     "output_type": "stream",
     "text": [
      "Epoch 34: 100%|██████████████████████████████████████| 614/614 [07:49<00:00,  1.31it/s, Loss=0.0959]\n"
     ]
    },
    {
     "name": "stdout",
     "output_type": "stream",
     "text": [
      "✅ Epoch 34 tamamlandı. Ortalama Loss: 0.0572\n"
     ]
    },
    {
     "name": "stderr",
     "output_type": "stream",
     "text": [
      "Evaluating: 100%|██████████| 157/157 [01:05<00:00,  2.38it/s]\n"
     ]
    },
    {
     "name": "stdout",
     "output_type": "stream",
     "text": [
      "\n",
      "📊 Evaluation Results:\n",
      "mAP@50: 0.7331\n",
      "mAP@75: 0.3453\n",
      "💾 Model saved: fasterrcnn_resnet50_epoch_35.pth\n"
     ]
    },
    {
     "name": "stderr",
     "output_type": "stream",
     "text": [
      "Epoch 35:  30%|███████████▍                          | 184/614 [02:18<05:22,  1.33it/s, Loss=0.0604]"
     ]
    }
   ],
   "source": [
    "model = get_model(num_classes).to(device)\n",
    "params = [p for p in model.parameters() if p.requires_grad]\n",
    "\n",
    "optimizer = torch.optim.SGD(params, lr=0.005, momentum=0.9, weight_decay=0.00005)\n",
    "lr_scheduler = torch.optim.lr_scheduler.StepLR(optimizer, step_size=10, gamma=0.1)\n",
    "\n",
    "\n",
    "run_training(model, optimizer, lr_scheduler, num_epochs=100)\n"
   ]
  }
 ],
 "metadata": {
  "kernelspec": {
   "display_name": "Python 3",
   "language": "python",
   "name": "python3"
  },
  "language_info": {
   "codemirror_mode": {
    "name": "ipython",
    "version": 3
   },
   "file_extension": ".py",
   "mimetype": "text/x-python",
   "name": "python",
   "nbconvert_exporter": "python",
   "pygments_lexer": "ipython3",
   "version": "3.11.9"
  }
 },
 "nbformat": 4,
 "nbformat_minor": 2
}
